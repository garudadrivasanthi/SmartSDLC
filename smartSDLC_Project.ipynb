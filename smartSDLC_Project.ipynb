{
  "nbformat": 4,
  "nbformat_minor": 0,
  "metadata": {
    "colab": {
      "provenance": []
    },
    "kernelspec": {
      "name": "python3",
      "display_name": "Python 3"
    },
    "language_info": {
      "name": "python"
    }
  },
  "cells": [
    {
      "cell_type": "code",
      "execution_count": null,
      "metadata": {
        "id": "hhZbwsVgHtJK",
        "colab": {
          "base_uri": "https://localhost:8080/"
        },
        "outputId": "b7337da3-a697-4f48-803f-f6f54613e371"
      },
      "outputs": [
        {
          "output_type": "stream",
          "name": "stdout",
          "text": [
            "AI Model Selected: Simulated Code Generator AI (Watsonx alternative)\n"
          ]
        }
      ],
      "source": [
        "model_selected = \"Simulated Code Generator AI (Watsonx alternative)\"\n",
        "print(f\"AI Model Selected: {model_selected}\")"
      ]
    },
    {
      "cell_type": "code",
      "source": [
        "architecture = {\n",
        "    \"Frontend\": \"Simulated Streamlit in Colab\",\n",
        "    \"Backend\": \"FastAPI logic as Python functions\",\n",
        "    \"AI Engine\": \"Simulated Python logic based on prompt\",\n",
        "}\n",
        "\n",
        "for layer, desc in architecture.items():\n",
        "    print(f\"{layer}: {desc}\")"
      ],
      "metadata": {
        "id": "3meX7UdXIpwM",
        "colab": {
          "base_uri": "https://localhost:8080/"
        },
        "outputId": "119b231a-1427-4047-cec6-518c3d641094"
      },
      "execution_count": null,
      "outputs": [
        {
          "output_type": "stream",
          "name": "stdout",
          "text": [
            "Frontend: Simulated Streamlit in Colab\n",
            "Backend: FastAPI logic as Python functions\n",
            "AI Engine: Simulated Python logic based on prompt\n"
          ]
        }
      ]
    },
    {
      "cell_type": "code",
      "source": [
        "print(\"Environment Ready in Google Colab \")"
      ],
      "metadata": {
        "id": "NRxIWwK3I-Cj",
        "colab": {
          "base_uri": "https://localhost:8080/"
        },
        "outputId": "a93e0eb3-8f27-472d-c080-225038067818"
      },
      "execution_count": null,
      "outputs": [
        {
          "output_type": "stream",
          "name": "stdout",
          "text": [
            "Environment Ready in Google Colab \n"
          ]
        }
      ]
    },
    {
      "cell_type": "code",
      "source": [
        "def generate_code(prompt):\n",
        "    if \"login\" in prompt.lower():\n",
        "        return \"\"\"\n",
        "def login(username, password):\n",
        "    if username == \"admin\" and password == \"123\":\n",
        "        return \"Login successful\"\n",
        "    else:\n",
        "        return \"Invalid credentials\"\n",
        "\"\"\"\n",
        "    elif \"calculator\" in prompt.lower():\n",
        "        return \"\"\"\n",
        "def calculator(a, b, operation):\n",
        "    if operation == \"add\":\n",
        "        return a + b\n",
        "    elif operation == \"subtract\":\n",
        "        return a - b\n",
        "    else:\n",
        "        return \"Unsupported operation\"\n",
        "\"\"\"\n",
        "    else:\n",
        "        return f\"# Code for prompt: {prompt}\\nprint('Hello from SmartSDLC AI!')\""
      ],
      "metadata": {
        "id": "nWA-nxRjJO3H"
      },
      "execution_count": null,
      "outputs": []
    },
    {
      "cell_type": "code",
      "source": [
        "def api_generate_code(prompt):\n",
        "    return {\"generated_code\": generate_code(prompt)}"
      ],
      "metadata": {
        "id": "HuANGg25qKXf"
      },
      "execution_count": null,
      "outputs": []
    },
    {
      "cell_type": "code",
      "source": [
        "print(\"SmartSDLC AI Code Generator\")\n",
        "user_prompt = input(\"Enter your prompt for code generation: \")\n",
        "\n",
        "response = api_generate_code(user_prompt)\n",
        "\n",
        "print(\"\\n Generated Code:\\n\")\n",
        "print(response[\"generated_code\"])"
      ],
      "metadata": {
        "colab": {
          "base_uri": "https://localhost:8080/"
        },
        "id": "B7WTnKpoqR4O",
        "outputId": "bed099d3-4dc1-4301-8e7a-cc99f7d9d4d5"
      },
      "execution_count": null,
      "outputs": [
        {
          "output_type": "stream",
          "name": "stdout",
          "text": [
            "SmartSDLC AI Code Generator\n",
            "Enter your prompt for code generation: login\n",
            "\n",
            " Generated Code:\n",
            "\n",
            "\n",
            "def login(username, password):\n",
            "    if username == \"admin\" and password == \"123\":\n",
            "        return \"Login successful\"\n",
            "    else:\n",
            "        return \"Invalid credentials\"\n",
            "\n"
          ]
        }
      ]
    },
    {
      "cell_type": "code",
      "source": [
        "print(\" Preparing Application for Deployment...\")\n",
        "\n",
        "test_prompt = \"login\"\n",
        "test_result = api_generate_code(test_prompt)\n",
        "\n",
        "print(\"\\n Test Deployment Result:\")\n",
        "print(test_result[\"generated_code\"])"
      ],
      "metadata": {
        "id": "iJxfdl_eqcQB",
        "colab": {
          "base_uri": "https://localhost:8080/"
        },
        "outputId": "45ef2213-66e0-4a89-c7cc-9f9b16e1f7d2"
      },
      "execution_count": null,
      "outputs": [
        {
          "metadata": {
            "tags": null
          },
          "name": "stdout",
          "output_type": "stream",
          "text": [
            " Preparing Application for Deployment...\n",
            "\n",
            " Test Deployment Result:\n",
            "\n",
            "def login(username, password):\n",
            "    if username == \"admin\" and password == \"123\":\n",
            "        return \"Login successful\"\n",
            "    else:\n",
            "        return \"Invalid credentials\"\n",
            "\n"
          ]
        }
      ]
    },
    {
      "cell_type": "code",
      "source": [
        "print(\" Project Completed Successfully!\")\n",
        "print(\"SmartSDLC used simulated AI to generate Python code based on user prompt.\")\n",
        "print(\"You used Google Colab to build, test, and simulate the entire SDLC process.\")"
      ],
      "metadata": {
        "id": "vv9o0pdzqnaw",
        "colab": {
          "base_uri": "https://localhost:8080/"
        },
        "outputId": "a5410701-ad35-4650-a927-06e5039d718f"
      },
      "execution_count": null,
      "outputs": [
        {
          "metadata": {
            "tags": null
          },
          "name": "stdout",
          "output_type": "stream",
          "text": [
            " Project Completed Successfully!\n",
            "SmartSDLC used simulated AI to generate Python code based on user prompt.\n",
            "You used Google Colab to build, test, and simulate the entire SDLC process.\n"
          ]
        }
      ]
    }
  ]
}